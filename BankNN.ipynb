{
  "nbformat": 4,
  "nbformat_minor": 0,
  "metadata": {
    "colab": {
      "name": "Copy of artificial_neural_network.ipynb",
      "provenance": [],
      "collapsed_sections": [],
      "toc_visible": true
    },
    "kernelspec": {
      "name": "python3",
      "display_name": "Python 3"
    }
  },
  "cells": [
    {
      "cell_type": "markdown",
      "metadata": {
        "id": "lP6JLo1tGNBg",
        "colab_type": "text"
      },
      "source": [
        "# Artificial Neural Network"
      ]
    },
    {
      "cell_type": "markdown",
      "metadata": {
        "id": "gWZyYmS_UE_L",
        "colab_type": "text"
      },
      "source": [
        "### Importing the libraries"
      ]
    },
    {
      "cell_type": "code",
      "metadata": {
        "id": "MxkJoQBkUIHC",
        "colab_type": "code",
        "colab": {}
      },
      "source": [
        "import numpy as np\n",
        "import pandas as pd\n",
        "import tensorflow as tf"
      ],
      "execution_count": 1,
      "outputs": []
    },
    {
      "cell_type": "code",
      "metadata": {
        "id": "ZaTwK7ojXr2F",
        "colab_type": "code",
        "colab": {
          "base_uri": "https://localhost:8080/",
          "height": 35
        },
        "outputId": "4412239c-2b1b-4590-ccc4-2ebc8fc735b5"
      },
      "source": [
        "tf.__version__"
      ],
      "execution_count": 2,
      "outputs": [
        {
          "output_type": "execute_result",
          "data": {
            "application/vnd.google.colaboratory.intrinsic+json": {
              "type": "string"
            },
            "text/plain": [
              "'2.3.0'"
            ]
          },
          "metadata": {
            "tags": []
          },
          "execution_count": 2
        }
      ]
    },
    {
      "cell_type": "markdown",
      "metadata": {
        "id": "1E0Q3aoKUCRX",
        "colab_type": "text"
      },
      "source": [
        "## Part 1 - Data Preprocessing"
      ]
    },
    {
      "cell_type": "markdown",
      "metadata": {
        "id": "cKWAkFVGUU0Z",
        "colab_type": "text"
      },
      "source": [
        "### Importing the dataset"
      ]
    },
    {
      "cell_type": "code",
      "metadata": {
        "id": "MXUkhkMfU4wq",
        "colab_type": "code",
        "colab": {}
      },
      "source": [
        "dataset = pd.read_csv('Churn_Modelling.csv')\n",
        "X = dataset.iloc[:, 3:-1].values\n",
        "y = dataset.iloc[:, -1].values"
      ],
      "execution_count": 3,
      "outputs": []
    },
    {
      "cell_type": "code",
      "metadata": {
        "id": "VYP9cQTWbzuI",
        "colab_type": "code",
        "colab": {
          "base_uri": "https://localhost:8080/",
          "height": 134
        },
        "outputId": "78ae13aa-28ed-4a27-b6a2-57935c3043a9"
      },
      "source": [
        "print(X)"
      ],
      "execution_count": 4,
      "outputs": [
        {
          "output_type": "stream",
          "text": [
            "[[619 'France' 'Female' ... 1 1 101348.88]\n",
            " [608 'Spain' 'Female' ... 0 1 112542.58]\n",
            " [502 'France' 'Female' ... 1 0 113931.57]\n",
            " ...\n",
            " [709 'France' 'Female' ... 0 1 42085.58]\n",
            " [772 'Germany' 'Male' ... 1 0 92888.52]\n",
            " [792 'France' 'Female' ... 1 0 38190.78]]\n"
          ],
          "name": "stdout"
        }
      ]
    },
    {
      "cell_type": "code",
      "metadata": {
        "id": "38vKGE6Nb2RR",
        "colab_type": "code",
        "colab": {
          "base_uri": "https://localhost:8080/",
          "height": 34
        },
        "outputId": "048c41b9-89bf-4feb-89bd-c70b463d0ddd"
      },
      "source": [
        "print(y)"
      ],
      "execution_count": 5,
      "outputs": [
        {
          "output_type": "stream",
          "text": [
            "[1 0 1 ... 1 1 0]\n"
          ],
          "name": "stdout"
        }
      ]
    },
    {
      "cell_type": "markdown",
      "metadata": {
        "id": "N6bQ0UgSU-NJ",
        "colab_type": "text"
      },
      "source": [
        "### Encoding categorical data"
      ]
    },
    {
      "cell_type": "markdown",
      "metadata": {
        "id": "le5MJreAbW52",
        "colab_type": "text"
      },
      "source": [
        "Label Encoding the \"Gender\" column"
      ]
    },
    {
      "cell_type": "code",
      "metadata": {
        "id": "PxVKWXxLbczC",
        "colab_type": "code",
        "colab": {}
      },
      "source": [
        "from sklearn.preprocessing import LabelEncoder\n",
        "le = LabelEncoder()\n",
        "X[:, 2] = le.fit_transform(X[:, 2])"
      ],
      "execution_count": 6,
      "outputs": []
    },
    {
      "cell_type": "code",
      "metadata": {
        "id": "-M1KboxFb6OO",
        "colab_type": "code",
        "colab": {
          "base_uri": "https://localhost:8080/",
          "height": 134
        },
        "outputId": "84ab2be4-8c77-4025-e6d0-7f604bb25b09"
      },
      "source": [
        "print(X)"
      ],
      "execution_count": 7,
      "outputs": [
        {
          "output_type": "stream",
          "text": [
            "[[619 'France' 0 ... 1 1 101348.88]\n",
            " [608 'Spain' 0 ... 0 1 112542.58]\n",
            " [502 'France' 0 ... 1 0 113931.57]\n",
            " ...\n",
            " [709 'France' 0 ... 0 1 42085.58]\n",
            " [772 'Germany' 1 ... 1 0 92888.52]\n",
            " [792 'France' 0 ... 1 0 38190.78]]\n"
          ],
          "name": "stdout"
        }
      ]
    },
    {
      "cell_type": "markdown",
      "metadata": {
        "id": "CUxGZezpbMcb",
        "colab_type": "text"
      },
      "source": [
        "One Hot Encoding the \"Geography\" column"
      ]
    },
    {
      "cell_type": "code",
      "metadata": {
        "id": "AMXC8-KMVirw",
        "colab_type": "code",
        "colab": {}
      },
      "source": [
        "from sklearn.compose import ColumnTransformer\n",
        "from sklearn.preprocessing import OneHotEncoder\n",
        "ct = ColumnTransformer(transformers=[('encoder', OneHotEncoder(), [1])], remainder='passthrough')\n",
        "X = np.array(ct.fit_transform(X))"
      ],
      "execution_count": 8,
      "outputs": []
    },
    {
      "cell_type": "code",
      "metadata": {
        "id": "ZcxwEon-b8nV",
        "colab_type": "code",
        "colab": {
          "base_uri": "https://localhost:8080/",
          "height": 134
        },
        "outputId": "d6903c9f-c52e-423f-a99c-0b23c9dd580b"
      },
      "source": [
        "print(X)"
      ],
      "execution_count": 9,
      "outputs": [
        {
          "output_type": "stream",
          "text": [
            "[[1.0 0.0 0.0 ... 1 1 101348.88]\n",
            " [0.0 0.0 1.0 ... 0 1 112542.58]\n",
            " [1.0 0.0 0.0 ... 1 0 113931.57]\n",
            " ...\n",
            " [1.0 0.0 0.0 ... 0 1 42085.58]\n",
            " [0.0 1.0 0.0 ... 1 0 92888.52]\n",
            " [1.0 0.0 0.0 ... 1 0 38190.78]]\n"
          ],
          "name": "stdout"
        }
      ]
    },
    {
      "cell_type": "markdown",
      "metadata": {
        "id": "vHol938cW8zd",
        "colab_type": "text"
      },
      "source": [
        "### Splitting the dataset into the Training set and Test set"
      ]
    },
    {
      "cell_type": "code",
      "metadata": {
        "id": "Z-TDt0Y_XEfc",
        "colab_type": "code",
        "colab": {}
      },
      "source": [
        "from sklearn.model_selection import train_test_split\n",
        "X_train, X_test, y_train, y_test = train_test_split(X, y, test_size = 0.2, random_state = 0)"
      ],
      "execution_count": 10,
      "outputs": []
    },
    {
      "cell_type": "markdown",
      "metadata": {
        "id": "RE_FcHyfV3TQ",
        "colab_type": "text"
      },
      "source": [
        "### Feature Scaling"
      ]
    },
    {
      "cell_type": "code",
      "metadata": {
        "id": "ViCrE00rV8Sk",
        "colab_type": "code",
        "colab": {}
      },
      "source": [
        "from sklearn.preprocessing import StandardScaler\n",
        "sc = StandardScaler()\n",
        "X_train = sc.fit_transform(X_train)\n",
        "X_test = sc.transform(X_test)"
      ],
      "execution_count": 11,
      "outputs": []
    },
    {
      "cell_type": "markdown",
      "metadata": {
        "id": "-zfEzkRVXIwF",
        "colab_type": "text"
      },
      "source": [
        "## Part 2 - Building the ANN"
      ]
    },
    {
      "cell_type": "markdown",
      "metadata": {
        "id": "KvdeScabXtlB",
        "colab_type": "text"
      },
      "source": [
        "### Initializing the ANN"
      ]
    },
    {
      "cell_type": "code",
      "metadata": {
        "id": "3dtrScHxXQox",
        "colab_type": "code",
        "colab": {}
      },
      "source": [
        "ann = tf.keras.models.Sequential()"
      ],
      "execution_count": 12,
      "outputs": []
    },
    {
      "cell_type": "markdown",
      "metadata": {
        "id": "rP6urV6SX7kS",
        "colab_type": "text"
      },
      "source": [
        "### Adding the input layer and the first hidden layer"
      ]
    },
    {
      "cell_type": "code",
      "metadata": {
        "id": "bppGycBXYCQr",
        "colab_type": "code",
        "colab": {}
      },
      "source": [
        "ann.add(tf.keras.layers.Dense(units=6, activation='relu'))"
      ],
      "execution_count": 13,
      "outputs": []
    },
    {
      "cell_type": "markdown",
      "metadata": {
        "id": "BELWAc_8YJze",
        "colab_type": "text"
      },
      "source": [
        "### Adding the second hidden layer"
      ]
    },
    {
      "cell_type": "code",
      "metadata": {
        "id": "JneR0u0sYRTd",
        "colab_type": "code",
        "colab": {}
      },
      "source": [
        "ann.add(tf.keras.layers.Dense(units=6, activation='relu'))"
      ],
      "execution_count": 14,
      "outputs": []
    },
    {
      "cell_type": "markdown",
      "metadata": {
        "id": "OyNEe6RXYcU4",
        "colab_type": "text"
      },
      "source": [
        "### Adding the output layer"
      ]
    },
    {
      "cell_type": "code",
      "metadata": {
        "id": "Cn3x41RBYfvY",
        "colab_type": "code",
        "colab": {}
      },
      "source": [
        "ann.add(tf.keras.layers.Dense(units=1, activation='sigmoid'))"
      ],
      "execution_count": 15,
      "outputs": []
    },
    {
      "cell_type": "markdown",
      "metadata": {
        "id": "JT4u2S1_Y4WG",
        "colab_type": "text"
      },
      "source": [
        "## Part 3 - Training the ANN"
      ]
    },
    {
      "cell_type": "markdown",
      "metadata": {
        "id": "8GWlJChhY_ZI",
        "colab_type": "text"
      },
      "source": [
        "### Compiling the ANN"
      ]
    },
    {
      "cell_type": "code",
      "metadata": {
        "id": "fG3RrwDXZEaS",
        "colab_type": "code",
        "colab": {}
      },
      "source": [
        "ann.compile(optimizer = 'adam', loss = 'binary_crossentropy', metrics = ['accuracy'])"
      ],
      "execution_count": 16,
      "outputs": []
    },
    {
      "cell_type": "markdown",
      "metadata": {
        "id": "0QR_G5u7ZLSM",
        "colab_type": "text"
      },
      "source": [
        "### Training the ANN on the Training set"
      ]
    },
    {
      "cell_type": "code",
      "metadata": {
        "id": "nHZ-LKv_ZRb3",
        "colab_type": "code",
        "colab": {
          "base_uri": "https://localhost:8080/",
          "height": 1000
        },
        "outputId": "414022b3-de0a-4ab7-e155-3875c4a50ca1"
      },
      "source": [
        "ann.fit(X_train, y_train, batch_size = 32, epochs = 100)"
      ],
      "execution_count": 17,
      "outputs": [
        {
          "output_type": "stream",
          "text": [
            "Epoch 1/100\n",
            "250/250 [==============================] - 0s 863us/step - loss: 0.5800 - accuracy: 0.7426\n",
            "Epoch 2/100\n",
            "250/250 [==============================] - 0s 945us/step - loss: 0.4899 - accuracy: 0.7961\n",
            "Epoch 3/100\n",
            "250/250 [==============================] - 0s 907us/step - loss: 0.4541 - accuracy: 0.7974\n",
            "Epoch 4/100\n",
            "250/250 [==============================] - 0s 900us/step - loss: 0.4300 - accuracy: 0.8079\n",
            "Epoch 5/100\n",
            "250/250 [==============================] - 0s 899us/step - loss: 0.4140 - accuracy: 0.8163\n",
            "Epoch 6/100\n",
            "250/250 [==============================] - 0s 990us/step - loss: 0.4023 - accuracy: 0.8239\n",
            "Epoch 7/100\n",
            "250/250 [==============================] - 0s 915us/step - loss: 0.3929 - accuracy: 0.8305\n",
            "Epoch 8/100\n",
            "250/250 [==============================] - 0s 906us/step - loss: 0.3845 - accuracy: 0.8355\n",
            "Epoch 9/100\n",
            "250/250 [==============================] - 0s 896us/step - loss: 0.3771 - accuracy: 0.8422\n",
            "Epoch 10/100\n",
            "250/250 [==============================] - 0s 908us/step - loss: 0.3704 - accuracy: 0.8468\n",
            "Epoch 11/100\n",
            "250/250 [==============================] - 0s 908us/step - loss: 0.3646 - accuracy: 0.8512\n",
            "Epoch 12/100\n",
            "250/250 [==============================] - 0s 897us/step - loss: 0.3604 - accuracy: 0.8535\n",
            "Epoch 13/100\n",
            "250/250 [==============================] - 0s 904us/step - loss: 0.3574 - accuracy: 0.8533\n",
            "Epoch 14/100\n",
            "250/250 [==============================] - 0s 961us/step - loss: 0.3547 - accuracy: 0.8577\n",
            "Epoch 15/100\n",
            "250/250 [==============================] - 0s 986us/step - loss: 0.3525 - accuracy: 0.8568\n",
            "Epoch 16/100\n",
            "250/250 [==============================] - 0s 948us/step - loss: 0.3503 - accuracy: 0.8572\n",
            "Epoch 17/100\n",
            "250/250 [==============================] - 0s 905us/step - loss: 0.3491 - accuracy: 0.8594\n",
            "Epoch 18/100\n",
            "250/250 [==============================] - 0s 896us/step - loss: 0.3478 - accuracy: 0.8579\n",
            "Epoch 19/100\n",
            "250/250 [==============================] - 0s 883us/step - loss: 0.3463 - accuracy: 0.8597\n",
            "Epoch 20/100\n",
            "250/250 [==============================] - 0s 914us/step - loss: 0.3456 - accuracy: 0.8610\n",
            "Epoch 21/100\n",
            "250/250 [==============================] - 0s 874us/step - loss: 0.3447 - accuracy: 0.8583\n",
            "Epoch 22/100\n",
            "250/250 [==============================] - 0s 865us/step - loss: 0.3437 - accuracy: 0.8597\n",
            "Epoch 23/100\n",
            "250/250 [==============================] - 0s 887us/step - loss: 0.3436 - accuracy: 0.8594\n",
            "Epoch 24/100\n",
            "250/250 [==============================] - 0s 927us/step - loss: 0.3425 - accuracy: 0.8610\n",
            "Epoch 25/100\n",
            "250/250 [==============================] - 0s 934us/step - loss: 0.3422 - accuracy: 0.8616\n",
            "Epoch 26/100\n",
            "250/250 [==============================] - 0s 889us/step - loss: 0.3419 - accuracy: 0.8614\n",
            "Epoch 27/100\n",
            "250/250 [==============================] - 0s 887us/step - loss: 0.3414 - accuracy: 0.8612\n",
            "Epoch 28/100\n",
            "250/250 [==============================] - 0s 914us/step - loss: 0.3406 - accuracy: 0.8604\n",
            "Epoch 29/100\n",
            "250/250 [==============================] - 0s 932us/step - loss: 0.3402 - accuracy: 0.8609\n",
            "Epoch 30/100\n",
            "250/250 [==============================] - 0s 876us/step - loss: 0.3396 - accuracy: 0.8611\n",
            "Epoch 31/100\n",
            "250/250 [==============================] - 0s 880us/step - loss: 0.3402 - accuracy: 0.8619\n",
            "Epoch 32/100\n",
            "250/250 [==============================] - 0s 934us/step - loss: 0.3391 - accuracy: 0.8625\n",
            "Epoch 33/100\n",
            "250/250 [==============================] - 0s 907us/step - loss: 0.3385 - accuracy: 0.8631\n",
            "Epoch 34/100\n",
            "250/250 [==============================] - 0s 910us/step - loss: 0.3385 - accuracy: 0.8622\n",
            "Epoch 35/100\n",
            "250/250 [==============================] - 0s 881us/step - loss: 0.3381 - accuracy: 0.8618\n",
            "Epoch 36/100\n",
            "250/250 [==============================] - 0s 889us/step - loss: 0.3381 - accuracy: 0.8627\n",
            "Epoch 37/100\n",
            "250/250 [==============================] - 0s 940us/step - loss: 0.3375 - accuracy: 0.8618\n",
            "Epoch 38/100\n",
            "250/250 [==============================] - 0s 939us/step - loss: 0.3374 - accuracy: 0.8620\n",
            "Epoch 39/100\n",
            "250/250 [==============================] - 0s 935us/step - loss: 0.3371 - accuracy: 0.8637\n",
            "Epoch 40/100\n",
            "250/250 [==============================] - 0s 884us/step - loss: 0.3366 - accuracy: 0.8622\n",
            "Epoch 41/100\n",
            "250/250 [==============================] - 0s 876us/step - loss: 0.3369 - accuracy: 0.8611\n",
            "Epoch 42/100\n",
            "250/250 [==============================] - 0s 928us/step - loss: 0.3363 - accuracy: 0.8621\n",
            "Epoch 43/100\n",
            "250/250 [==============================] - 0s 909us/step - loss: 0.3360 - accuracy: 0.8646\n",
            "Epoch 44/100\n",
            "250/250 [==============================] - 0s 853us/step - loss: 0.3365 - accuracy: 0.8615\n",
            "Epoch 45/100\n",
            "250/250 [==============================] - 0s 897us/step - loss: 0.3361 - accuracy: 0.8609\n",
            "Epoch 46/100\n",
            "250/250 [==============================] - 0s 956us/step - loss: 0.3364 - accuracy: 0.8633\n",
            "Epoch 47/100\n",
            "250/250 [==============================] - 0s 897us/step - loss: 0.3354 - accuracy: 0.8627\n",
            "Epoch 48/100\n",
            "250/250 [==============================] - 0s 894us/step - loss: 0.3354 - accuracy: 0.8624\n",
            "Epoch 49/100\n",
            "250/250 [==============================] - 0s 879us/step - loss: 0.3356 - accuracy: 0.8627\n",
            "Epoch 50/100\n",
            "250/250 [==============================] - 0s 898us/step - loss: 0.3352 - accuracy: 0.8626\n",
            "Epoch 51/100\n",
            "250/250 [==============================] - 0s 917us/step - loss: 0.3352 - accuracy: 0.8626\n",
            "Epoch 52/100\n",
            "250/250 [==============================] - 0s 903us/step - loss: 0.3354 - accuracy: 0.8626\n",
            "Epoch 53/100\n",
            "250/250 [==============================] - 0s 962us/step - loss: 0.3352 - accuracy: 0.8629\n",
            "Epoch 54/100\n",
            "250/250 [==============================] - 0s 893us/step - loss: 0.3348 - accuracy: 0.8619\n",
            "Epoch 55/100\n",
            "250/250 [==============================] - 0s 932us/step - loss: 0.3350 - accuracy: 0.8616\n",
            "Epoch 56/100\n",
            "250/250 [==============================] - 0s 907us/step - loss: 0.3348 - accuracy: 0.8625\n",
            "Epoch 57/100\n",
            "250/250 [==============================] - 0s 871us/step - loss: 0.3348 - accuracy: 0.8629\n",
            "Epoch 58/100\n",
            "250/250 [==============================] - 0s 940us/step - loss: 0.3344 - accuracy: 0.8636\n",
            "Epoch 59/100\n",
            "250/250 [==============================] - 0s 944us/step - loss: 0.3346 - accuracy: 0.8624\n",
            "Epoch 60/100\n",
            "250/250 [==============================] - 0s 939us/step - loss: 0.3342 - accuracy: 0.8631\n",
            "Epoch 61/100\n",
            "250/250 [==============================] - 0s 885us/step - loss: 0.3341 - accuracy: 0.8627\n",
            "Epoch 62/100\n",
            "250/250 [==============================] - 0s 891us/step - loss: 0.3343 - accuracy: 0.8627\n",
            "Epoch 63/100\n",
            "250/250 [==============================] - 0s 929us/step - loss: 0.3343 - accuracy: 0.8620\n",
            "Epoch 64/100\n",
            "250/250 [==============================] - 0s 906us/step - loss: 0.3343 - accuracy: 0.8625\n",
            "Epoch 65/100\n",
            "250/250 [==============================] - 0s 977us/step - loss: 0.3339 - accuracy: 0.8626\n",
            "Epoch 66/100\n",
            "250/250 [==============================] - 0s 941us/step - loss: 0.3341 - accuracy: 0.8621\n",
            "Epoch 67/100\n",
            "250/250 [==============================] - 0s 910us/step - loss: 0.3340 - accuracy: 0.8624\n",
            "Epoch 68/100\n",
            "250/250 [==============================] - 0s 994us/step - loss: 0.3339 - accuracy: 0.8641\n",
            "Epoch 69/100\n",
            "250/250 [==============================] - 0s 912us/step - loss: 0.3338 - accuracy: 0.8622\n",
            "Epoch 70/100\n",
            "250/250 [==============================] - 0s 918us/step - loss: 0.3337 - accuracy: 0.8620\n",
            "Epoch 71/100\n",
            "250/250 [==============================] - 0s 913us/step - loss: 0.3338 - accuracy: 0.8633\n",
            "Epoch 72/100\n",
            "250/250 [==============================] - 0s 1ms/step - loss: 0.3336 - accuracy: 0.8626\n",
            "Epoch 73/100\n",
            "250/250 [==============================] - 0s 944us/step - loss: 0.3339 - accuracy: 0.8616\n",
            "Epoch 74/100\n",
            "250/250 [==============================] - 0s 989us/step - loss: 0.3334 - accuracy: 0.8634\n",
            "Epoch 75/100\n",
            "250/250 [==============================] - 0s 947us/step - loss: 0.3334 - accuracy: 0.8640\n",
            "Epoch 76/100\n",
            "250/250 [==============================] - 0s 1ms/step - loss: 0.3337 - accuracy: 0.8618\n",
            "Epoch 77/100\n",
            "250/250 [==============================] - 0s 941us/step - loss: 0.3336 - accuracy: 0.8609\n",
            "Epoch 78/100\n",
            "250/250 [==============================] - 0s 952us/step - loss: 0.3333 - accuracy: 0.8633\n",
            "Epoch 79/100\n",
            "250/250 [==============================] - 0s 976us/step - loss: 0.3337 - accuracy: 0.8611\n",
            "Epoch 80/100\n",
            "250/250 [==============================] - 0s 1ms/step - loss: 0.3336 - accuracy: 0.8626\n",
            "Epoch 81/100\n",
            "250/250 [==============================] - 0s 988us/step - loss: 0.3336 - accuracy: 0.8635\n",
            "Epoch 82/100\n",
            "250/250 [==============================] - 0s 1ms/step - loss: 0.3334 - accuracy: 0.8637\n",
            "Epoch 83/100\n",
            "250/250 [==============================] - 0s 969us/step - loss: 0.3335 - accuracy: 0.8639\n",
            "Epoch 84/100\n",
            "250/250 [==============================] - 0s 1ms/step - loss: 0.3334 - accuracy: 0.8618\n",
            "Epoch 85/100\n",
            "250/250 [==============================] - 0s 970us/step - loss: 0.3331 - accuracy: 0.8614\n",
            "Epoch 86/100\n",
            "250/250 [==============================] - 0s 922us/step - loss: 0.3334 - accuracy: 0.8627\n",
            "Epoch 87/100\n",
            "250/250 [==============================] - 0s 923us/step - loss: 0.3337 - accuracy: 0.8626\n",
            "Epoch 88/100\n",
            "250/250 [==============================] - 0s 1ms/step - loss: 0.3334 - accuracy: 0.8619\n",
            "Epoch 89/100\n",
            "250/250 [==============================] - 0s 917us/step - loss: 0.3326 - accuracy: 0.8633\n",
            "Epoch 90/100\n",
            "250/250 [==============================] - 0s 945us/step - loss: 0.3332 - accuracy: 0.8621\n",
            "Epoch 91/100\n",
            "250/250 [==============================] - 0s 899us/step - loss: 0.3333 - accuracy: 0.8626\n",
            "Epoch 92/100\n",
            "250/250 [==============================] - 0s 1ms/step - loss: 0.3331 - accuracy: 0.8619\n",
            "Epoch 93/100\n",
            "250/250 [==============================] - 0s 935us/step - loss: 0.3327 - accuracy: 0.8621\n",
            "Epoch 94/100\n",
            "250/250 [==============================] - 0s 910us/step - loss: 0.3331 - accuracy: 0.8630\n",
            "Epoch 95/100\n",
            "250/250 [==============================] - 0s 915us/step - loss: 0.3330 - accuracy: 0.8635\n",
            "Epoch 96/100\n",
            "250/250 [==============================] - 0s 1ms/step - loss: 0.3325 - accuracy: 0.8621\n",
            "Epoch 97/100\n",
            "250/250 [==============================] - 0s 893us/step - loss: 0.3332 - accuracy: 0.8636\n",
            "Epoch 98/100\n",
            "250/250 [==============================] - 0s 917us/step - loss: 0.3330 - accuracy: 0.8648\n",
            "Epoch 99/100\n",
            "250/250 [==============================] - 0s 948us/step - loss: 0.3328 - accuracy: 0.8619\n",
            "Epoch 100/100\n",
            "250/250 [==============================] - 0s 1ms/step - loss: 0.3330 - accuracy: 0.8637\n"
          ],
          "name": "stdout"
        },
        {
          "output_type": "execute_result",
          "data": {
            "text/plain": [
              "<tensorflow.python.keras.callbacks.History at 0x7f7843300550>"
            ]
          },
          "metadata": {
            "tags": []
          },
          "execution_count": 17
        }
      ]
    },
    {
      "cell_type": "markdown",
      "metadata": {
        "id": "tJj5k2MxZga3",
        "colab_type": "text"
      },
      "source": [
        "## Part 4 - Making the predictions and evaluating the model"
      ]
    },
    {
      "cell_type": "markdown",
      "metadata": {
        "id": "84QFoqGYeXHL",
        "colab_type": "text"
      },
      "source": [
        "### Predicting the result of a single observation"
      ]
    },
    {
      "cell_type": "markdown",
      "metadata": {
        "id": "CGRo3eacgDdC",
        "colab_type": "text"
      },
      "source": [
        "To predict if the customer with the following informations will leave the bank: \n",
        "\n",
        "Geography: France\n",
        "\n",
        "Credit Score: 600\n",
        "\n",
        "Gender: Male\n",
        "\n",
        "Age: 40 years old\n",
        "\n",
        "Tenure: 3 years\n",
        "\n",
        "Balance: \\$ 60000\n",
        "\n",
        "Number of Products: 2\n",
        "\n",
        "Does this customer have a credit card? Yes\n",
        "\n",
        "Is this customer an Active Member: Yes\n",
        "\n",
        "Estimated Salary: \\$ 50000\n",
        "\n",
        "So, should we say goodbye to that customer?"
      ]
    },
    {
      "cell_type": "markdown",
      "metadata": {
        "id": "ZhU1LTgPg-kH",
        "colab_type": "text"
      },
      "source": [
        "**Solution**"
      ]
    },
    {
      "cell_type": "code",
      "metadata": {
        "id": "2d8IoCCkeWGL",
        "colab_type": "code",
        "colab": {
          "base_uri": "https://localhost:8080/",
          "height": 34
        },
        "outputId": "eed466f4-730e-4e43-b75b-3138ee5eae42"
      },
      "source": [
        "print(ann.predict(sc.transform([[1, 0, 0, 600, 1, 40, 3, 60000, 2, 1, 1, 50000]])) > 0.5)"
      ],
      "execution_count": 18,
      "outputs": [
        {
          "output_type": "stream",
          "text": [
            "[[False]]\n"
          ],
          "name": "stdout"
        }
      ]
    },
    {
      "cell_type": "markdown",
      "metadata": {
        "id": "u7yx47jPZt11",
        "colab_type": "text"
      },
      "source": [
        "### Predicting the Test set results"
      ]
    },
    {
      "cell_type": "code",
      "metadata": {
        "id": "nIyEeQdRZwgs",
        "colab_type": "code",
        "colab": {
          "base_uri": "https://localhost:8080/",
          "height": 134
        },
        "outputId": "482b6f6f-211e-4f45-beea-53b329600443"
      },
      "source": [
        "y_pred = ann.predict(X_test)\n",
        "y_pred = (y_pred > 0.5)\n",
        "print(np.concatenate((y_pred.reshape(len(y_pred),1), y_test.reshape(len(y_test),1)),1))"
      ],
      "execution_count": 19,
      "outputs": [
        {
          "output_type": "stream",
          "text": [
            "[[0 0]\n",
            " [0 1]\n",
            " [0 0]\n",
            " ...\n",
            " [0 0]\n",
            " [0 0]\n",
            " [0 0]]\n"
          ],
          "name": "stdout"
        }
      ]
    },
    {
      "cell_type": "markdown",
      "metadata": {
        "id": "o0oyfLWoaEGw",
        "colab_type": "text"
      },
      "source": [
        "### Making the Confusion Matrix"
      ]
    },
    {
      "cell_type": "code",
      "metadata": {
        "id": "ci6K_r6LaF6P",
        "colab_type": "code",
        "colab": {
          "base_uri": "https://localhost:8080/",
          "height": 67
        },
        "outputId": "237594d3-3588-4fcb-9020-f6528cb75b3f"
      },
      "source": [
        "from sklearn.metrics import confusion_matrix, accuracy_score\n",
        "cm = confusion_matrix(y_test, y_pred)\n",
        "print(cm)\n",
        "accuracy_score(y_test, y_pred)"
      ],
      "execution_count": 20,
      "outputs": [
        {
          "output_type": "stream",
          "text": [
            "[[1509   86]\n",
            " [ 184  221]]\n"
          ],
          "name": "stdout"
        },
        {
          "output_type": "execute_result",
          "data": {
            "text/plain": [
              "0.865"
            ]
          },
          "metadata": {
            "tags": []
          },
          "execution_count": 20
        }
      ]
    }
  ]
}